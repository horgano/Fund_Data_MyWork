{
 "cells": [
  {
   "cell_type": "markdown",
   "id": "d82feaf4",
   "metadata": {},
   "source": [
    "# Python Standard Library\n",
    "https://docs.python.org/3/library/random.html"
   ]
  },
  {
   "cell_type": "code",
   "execution_count": 1,
   "id": "31d8acb6",
   "metadata": {},
   "outputs": [],
   "source": [
    "# the random module\n",
    "import random"
   ]
  },
  {
   "cell_type": "code",
   "execution_count": 10,
   "id": "282287e4",
   "metadata": {},
   "outputs": [],
   "source": [
    "# Using auto complete we can get a  flavour of the module\n",
    "# Putting a Q mark in front of \n",
    "?random.randint"
   ]
  },
  {
   "cell_type": "code",
   "execution_count": 9,
   "id": "4625d032",
   "metadata": {},
   "outputs": [
    {
     "data": {
      "text/plain": [
       "17"
      ]
     },
     "execution_count": 9,
     "metadata": {},
     "output_type": "execute_result"
    }
   ],
   "source": [
    "# Based on above we can generate a random integer between 10 and 20 inclusive\n",
    "random.randint(10, 20)"
   ]
  },
  {
   "cell_type": "code",
   "execution_count": 11,
   "id": "2374fb5e",
   "metadata": {},
   "outputs": [
    {
     "name": "stdout",
     "output_type": "stream",
     "text": [
      "[5, 2, 3, 10, 1, 3, 1, 6, 5, 1, 4, 2, 7, 4, 6, 1, 1, 7, 2, 3, 4, 5, 6, 1, 8, 5, 8, 10, 6, 6, 1, 5, 6, 8, 6, 5, 3, 8, 6, 8, 6, 1, 2, 9, 6, 10, 9, 2, 4, 5, 10, 3, 8, 8, 1, 2, 3, 9, 5, 9, 5, 1, 4, 10, 9, 6, 2, 7, 9, 2, 6, 6, 7, 8, 3, 6, 10, 4, 2, 3, 8, 5, 10, 3, 3, 5, 7, 2, 6, 9, 4, 6, 4, 3, 5, 7, 9, 6, 10, 8]\n"
     ]
    }
   ],
   "source": [
    "# Generate a list of 100 random integers between 1 and 10#\n",
    "L = [random.randint(1,10) for i in range(100)]\n",
    "\n",
    "print (L)"
   ]
  },
  {
   "cell_type": "code",
   "execution_count": 12,
   "id": "b94dccd1",
   "metadata": {},
   "outputs": [
    {
     "data": {
      "text/plain": [
       "[5, 2, 3, 10, 1, 3, 1, 6, 5, 1]"
      ]
     },
     "execution_count": 12,
     "metadata": {},
     "output_type": "execute_result"
    }
   ],
   "source": [
    "# Show first 10 items in L\n",
    "L[:10]"
   ]
  },
  {
   "cell_type": "code",
   "execution_count": 15,
   "id": "91fb2f6a",
   "metadata": {},
   "outputs": [
    {
     "data": {
      "text/plain": [
       "[4, 6, 4, 3, 5, 7, 9, 6, 10, 8]"
      ]
     },
     "execution_count": 15,
     "metadata": {},
     "output_type": "execute_result"
    }
   ],
   "source": [
    "# SHow last 10 items in L\n",
    "L[-10:]"
   ]
  },
  {
   "cell_type": "code",
   "execution_count": 16,
   "id": "6cc71699",
   "metadata": {},
   "outputs": [],
   "source": [
    "# List of car makes\n",
    "makes = ['Toyota','Skoda','Ford','Renault']"
   ]
  },
  {
   "cell_type": "code",
   "execution_count": 17,
   "id": "731f2164",
   "metadata": {},
   "outputs": [
    {
     "data": {
      "text/plain": [
       "'Ford'"
      ]
     },
     "execution_count": 17,
     "metadata": {},
     "output_type": "execute_result"
    }
   ],
   "source": [
    "# Select one at random\n",
    "random.choice (makes)"
   ]
  },
  {
   "cell_type": "code",
   "execution_count": 20,
   "id": "241ca228",
   "metadata": {},
   "outputs": [
    {
     "data": {
      "text/plain": [
       "['Renault',\n",
       " 'Skoda',\n",
       " 'Ford',\n",
       " 'Skoda',\n",
       " 'Renault',\n",
       " 'Skoda',\n",
       " 'Toyota',\n",
       " 'Ford',\n",
       " 'Renault',\n",
       " 'Toyota']"
      ]
     },
     "execution_count": 20,
     "metadata": {},
     "output_type": "execute_result"
    }
   ],
   "source": [
    "# Select 10 at random\n",
    "random.choices (makes, k=10)"
   ]
  },
  {
   "cell_type": "code",
   "execution_count": 21,
   "id": "22fe9135",
   "metadata": {},
   "outputs": [],
   "source": [
    "# First 8 letters\n",
    "letters = ['A','B','C','D','E','F','G','H']"
   ]
  },
  {
   "cell_type": "code",
   "execution_count": 22,
   "id": "0957b5cf",
   "metadata": {},
   "outputs": [],
   "source": [
    "# Shuffle them, but desnt print\n",
    "random.shuffle(letters)"
   ]
  },
  {
   "cell_type": "code",
   "execution_count": 25,
   "id": "2f143136",
   "metadata": {},
   "outputs": [
    {
     "data": {
      "text/plain": [
       "['E', 'H', 'G', 'D', 'F', 'C', 'A', 'B']"
      ]
     },
     "execution_count": 25,
     "metadata": {},
     "output_type": "execute_result"
    }
   ],
   "source": [
    "letters"
   ]
  },
  {
   "cell_type": "code",
   "execution_count": 26,
   "id": "4b523320",
   "metadata": {},
   "outputs": [
    {
     "data": {
      "text/plain": [
       "['A', 'H', 'B']"
      ]
     },
     "execution_count": 26,
     "metadata": {},
     "output_type": "execute_result"
    }
   ],
   "source": [
    "# Random selection without replacement: cant repeat a letter\n",
    "random.sample(letters, k=3)"
   ]
  },
  {
   "cell_type": "code",
   "execution_count": 28,
   "id": "baf0f934",
   "metadata": {},
   "outputs": [
    {
     "data": {
      "text/plain": [
       "0.11509786355040053"
      ]
     },
     "execution_count": 28,
     "metadata": {},
     "output_type": "execute_result"
    }
   ],
   "source": [
    "# Random real floating pt number: Default [0.0, 1.0]\n",
    "random.random()"
   ]
  },
  {
   "cell_type": "code",
   "execution_count": 29,
   "id": "9fce50ee",
   "metadata": {},
   "outputs": [
    {
     "data": {
      "text/plain": [
       "63.33424580757877"
      ]
     },
     "execution_count": 29,
     "metadata": {},
     "output_type": "execute_result"
    }
   ],
   "source": [
    "# Pick a random floating pt number between 0.0 and 100.0: [0.0, 100.0]\n",
    "random.uniform(0.0,100.0)"
   ]
  },
  {
   "cell_type": "code",
   "execution_count": null,
   "id": "94acb24c",
   "metadata": {},
   "outputs": [],
   "source": []
  }
 ],
 "metadata": {
  "kernelspec": {
   "display_name": "Python 3 (ipykernel)",
   "language": "python",
   "name": "python3"
  },
  "language_info": {
   "codemirror_mode": {
    "name": "ipython",
    "version": 3
   },
   "file_extension": ".py",
   "mimetype": "text/x-python",
   "name": "python",
   "nbconvert_exporter": "python",
   "pygments_lexer": "ipython3",
   "version": "3.11.5"
  }
 },
 "nbformat": 4,
 "nbformat_minor": 5
}
