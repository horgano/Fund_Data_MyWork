{
 "cells": [
  {
   "cell_type": "markdown",
   "id": "0b387963",
   "metadata": {},
   "source": [
    "Adapte from The Python Tutorial:\n",
    "https://docs.python.org/3/tutorial/introduction.html#numbers"
   ]
  },
  {
   "cell_type": "code",
   "execution_count": 2,
   "id": "4df8bb61",
   "metadata": {},
   "outputs": [
    {
     "data": {
      "text/plain": [
       "5.666666666666667"
      ]
     },
     "execution_count": 2,
     "metadata": {},
     "output_type": "execute_result"
    }
   ],
   "source": [
    "# classic\n",
    "17 / 3 "
   ]
  },
  {
   "cell_type": "code",
   "execution_count": 3,
   "id": "e447f483",
   "metadata": {},
   "outputs": [
    {
     "data": {
      "text/plain": [
       "5"
      ]
     },
     "execution_count": 3,
     "metadata": {},
     "output_type": "execute_result"
    }
   ],
   "source": [
    "# floor division discards the fractional part\n",
    "17 // 3"
   ]
  },
  {
   "cell_type": "code",
   "execution_count": 4,
   "id": "bcf484f5",
   "metadata": {},
   "outputs": [
    {
     "data": {
      "text/plain": [
       "2"
      ]
     },
     "execution_count": 4,
     "metadata": {},
     "output_type": "execute_result"
    }
   ],
   "source": [
    "# the % operator returns the remainder of the division\n",
    "17 % 3 "
   ]
  },
  {
   "cell_type": "code",
   "execution_count": 5,
   "id": "677b3d2a",
   "metadata": {},
   "outputs": [
    {
     "data": {
      "text/plain": [
       "17"
      ]
     },
     "execution_count": 5,
     "metadata": {},
     "output_type": "execute_result"
    }
   ],
   "source": [
    "# floored quotient * divisor + remainder\n",
    "5 * 3 + 2"
   ]
  },
  {
   "cell_type": "code",
   "execution_count": 6,
   "id": "f7f1942b",
   "metadata": {},
   "outputs": [
    {
     "data": {
      "text/plain": [
       "6.0"
      ]
     },
     "execution_count": 6,
     "metadata": {},
     "output_type": "execute_result"
    }
   ],
   "source": [
    "# Even when we divide (using /) integers, we get a float\n",
    "18 / 3"
   ]
  },
  {
   "cell_type": "code",
   "execution_count": 7,
   "id": "cdd125f9",
   "metadata": {},
   "outputs": [
    {
     "data": {
      "text/plain": [
       "float"
      ]
     },
     "execution_count": 7,
     "metadata": {},
     "output_type": "execute_result"
    }
   ],
   "source": [
    "type (6)\n",
    "type (6.0)"
   ]
  },
  {
   "cell_type": "code",
   "execution_count": 8,
   "id": "822fb184",
   "metadata": {
    "scrolled": true
   },
   "outputs": [
    {
     "name": "stdout",
     "output_type": "stream",
     "text": [
      "<class 'int'>\n",
      "<class 'float'>\n"
     ]
    }
   ],
   "source": [
    "print (type (6))\n",
    "print (type (6.0))"
   ]
  },
  {
   "cell_type": "code",
   "execution_count": 9,
   "id": "19cdee3b",
   "metadata": {},
   "outputs": [
    {
     "data": {
      "text/plain": [
       "int"
      ]
     },
     "execution_count": 9,
     "metadata": {},
     "output_type": "execute_result"
    }
   ],
   "source": [
    "# The type of 18 * 3in int\n",
    "type (18 * 3)"
   ]
  },
  {
   "cell_type": "code",
   "execution_count": 10,
   "id": "aed3610b",
   "metadata": {},
   "outputs": [
    {
     "data": {
      "text/plain": [
       "int"
      ]
     },
     "execution_count": 10,
     "metadata": {},
     "output_type": "execute_result"
    }
   ],
   "source": [
    "# The type of 18 to the power of 3 is int\n",
    "type (18**3)"
   ]
  },
  {
   "cell_type": "code",
   "execution_count": 12,
   "id": "b65edaf9",
   "metadata": {},
   "outputs": [
    {
     "data": {
      "text/plain": [
       "float"
      ]
     },
     "execution_count": 12,
     "metadata": {},
     "output_type": "execute_result"
    }
   ],
   "source": [
    "# The type of 18 divided by 3 is float\n",
    "type (18/3)"
   ]
  },
  {
   "cell_type": "code",
   "execution_count": 13,
   "id": "04fe8a5f",
   "metadata": {},
   "outputs": [
    {
     "data": {
      "text/plain": [
       "int"
      ]
     },
     "execution_count": 13,
     "metadata": {},
     "output_type": "execute_result"
    }
   ],
   "source": [
    "# The type of 18 divided by 3 floored is int\n",
    "type (18//3)"
   ]
  },
  {
   "cell_type": "code",
   "execution_count": null,
   "id": "f39e0626",
   "metadata": {},
   "outputs": [],
   "source": []
  }
 ],
 "metadata": {
  "kernelspec": {
   "display_name": "Python 3 (ipykernel)",
   "language": "python",
   "name": "python3"
  },
  "language_info": {
   "codemirror_mode": {
    "name": "ipython",
    "version": 3
   },
   "file_extension": ".py",
   "mimetype": "text/x-python",
   "name": "python",
   "nbconvert_exporter": "python",
   "pygments_lexer": "ipython3",
   "version": "3.11.5"
  }
 },
 "nbformat": 4,
 "nbformat_minor": 5
}
